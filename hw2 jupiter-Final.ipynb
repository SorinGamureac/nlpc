{
 "cells": [
  {
   "cell_type": "code",
   "execution_count": 37,
   "id": "d18efeee",
   "metadata": {},
   "outputs": [
    {
     "name": "stderr",
     "output_type": "stream",
     "text": [
      "[nltk_data] Downloading package punkt to /Users/user/nltk_data...\n",
      "[nltk_data]   Package punkt is already up-to-date!\n"
     ]
    },
    {
     "name": "stdout",
     "output_type": "stream",
     "text": [
      "Counter({' ': 199, 'i': 130, 'e': 117, 'a': 101, 'n': 100, 't': 93, 'o': 93, 's': 81, 'l': 66, 'r': 62, 'c': 47, 'm': 46, 'd': 44, 'h': 43, 'g': 39, '\\n': 38, 'f': 37, 'v': 22, 'u': 22, 'p': 20, 'y': 17, 'w': 15, 'b': 13, '.': 12, ',': 9, '2': 4, 'k': 4, '0': 3, '1': 2, 'z': 2, '3': 1, '4': 1, '(': 1, ')': 1, 'j': 1, 'x': 1, '’': 1, '9': 1, '-': 1})\n"
     ]
    },
    {
     "data": {
      "image/png": "[encoded data removed]",
      "text/plain": [
       "<Figure size 432x288 with 1 Axes>"
      ]
     },
     "metadata": {
      "needs_background": "light"
     },
     "output_type": "display_data"
    },
    {
     "name": "stdout",
     "output_type": "stream",
     "text": [
      "[('that all present day\\nliving organisms are related to each other and also to all organisms\\nthat ever lived on this earth, was a revelation which humbled man and\\nled to cultural movements for conservation of biodiversity.', 'NN'), ('the living world\\ncomprises an amazing diversity of living organisms.', 'NN'), ('chapter 1\\nthe living world\\n\\nchapter 2\\nbiological classification\\n\\nchapter 3\\nplant kingdom\\n\\nchapter 4\\nanimal kingdom\\n\\n \\n\\nunit i\\n\\ndiversity in the living world\\n\\nbiology is the science of life forms and living processes.', 'NN'), ('systematic and monumental\\ndescription of life forms brought in, out of necessity, detailed systems\\nof identification, nomenclature and classification.', 'NN'), ('in the\\nfollowing chapters of this unit, you will get a description, including\\nclassification, of animals and plants from a taxonomist’s perspective.', 'NN'), ('a common feature of\\nall such forms of inanimate and animate objects was the sense of awe\\nor fear that they evoked.', 'NN'), ('and some among the animals and plants.', 'NN'), ('early man deified some of the inanimate matter (wind, sea,\\nfire etc.)', 'JJ'), ('societies which\\nindulged in anthropocentric view of biology could register limited\\nprogress in biological knowledge.', 'JJ'), ('2019-2020', 'JJ'), ('early man could\\neasily perceive the difference between inanimate matter and living\\norganisms.', 'NN'), ('the description of living organisms including\\nhuman beings began much later in human history.', 'NN'), ('the biggest spin off\\nof such studies was the recognition of the sharing of similarities among\\nliving organisms both horizontally and vertically.', 'NN')]\n"
     ]
    },
    {
     "name": "stderr",
     "output_type": "stream",
     "text": [
      "[nltk_data] Downloading package averaged_perceptron_tagger to\n",
      "[nltk_data]     /Users/user/nltk_data...\n",
      "[nltk_data]   Package averaged_perceptron_tagger is already up-to-\n",
      "[nltk_data]       date!\n"
     ]
    }
   ],
   "source": [
    "import nltk\n",
    "import ssl\n",
    "import pandas as pd\n",
    "\n",
    "try:\n",
    "    _create_unverified_https_context = ssl._create_unverified_context\n",
    "except AttributeError:\n",
    "    pass\n",
    "else:\n",
    "    ssl._create_default_https_context = _create_unverified_https_context\n",
    "nltk.download('punkt')\n",
    "\n",
    "with open(\"class_11_biology_chapter_1_0.txt\", \"r\") as hw_notebook:\n",
    "    data = hw_notebook.read().lower()\n",
    "tokens_sent_tokenize = set({})\n",
    "tokens_word_tokenize = set({})\n",
    "tokens_casual_tokenize = set({})\n",
    "tokens_MWETokenizer = set({})\n",
    "\n",
    "tokens_1 = nltk.sent_tokenize(data)\n",
    "for t in tokens_1:\n",
    "    tokens_sent_tokenize.add(str(t))\n",
    "# print(tokens_sent_tokenize)\n",
    "# media1 = print(len(tokens_sent_tokenize)/len(tokens_sent_tokenize))\n",
    "\n",
    "tokens_2 = nltk.word_tokenize(data)\n",
    "for t in tokens_2:\n",
    "    tokens_word_tokenize.add(str(t))\n",
    "# print(tokens_word_tokenize)\n",
    "# media2 = print(len(tokens_word_tokenize)/len(tokens_sent_tokenize))\n",
    "\n",
    "tokens_3 = nltk.casual_tokenize(data)\n",
    "for t in tokens_3:\n",
    "    tokens_casual_tokenize.add(str(t))\n",
    "# print(tokens_casual_tokenize)\n",
    "# media3 = print(len(tokens_casual_tokenize)/len(tokens_sent_tokenize))\n",
    "\n",
    "from nltk.tokenize import MWETokenizer\n",
    "tokenizer = MWETokenizer()\n",
    "tokens_MWETokenizer = tokenizer.tokenize(data.split())\n",
    "tokens_MWETokenizer = set(tokens_MWETokenizer)\n",
    "# media4 = print(len(set(tokens_MWETokenizer))/len(tokens_sent_tokenize))\n",
    "# --------------------------------------------------------------------------------------------------------------\n",
    "union_sets = set({})\n",
    "df = union_sets.union(tokens_sent_tokenize, tokens_word_tokenize, tokens_casual_tokenize, tokens_MWETokenizer)\n",
    "# pd.DataFrame(data=df)\n",
    "\n",
    "stem_porter_words = []\n",
    "from nltk.stem import PorterStemmer\n",
    "ps = PorterStemmer()\n",
    "for w in df:\n",
    "    stem_porter_words.append(ps.stem(w))\n",
    "\n",
    "stem_lancaster_words = []    \n",
    "from nltk.stem.lancaster import LancasterStemmer\n",
    "ls = PorterStemmer()\n",
    "for w in df:\n",
    "    stem_lancaster_words.append(ls.stem(w))\n",
    "\n",
    "\n",
    "snow_stemmer = SnowballStemmer(language='english')\n",
    "  \n",
    "stem_snow_words = []\n",
    "for w in df:\n",
    "    x = snow_stemmer.stem(w)\n",
    "    stem_snow_words.append(x)\n",
    "data_pandas_list = []\n",
    "# data_pandas = dict({})\n",
    "# data_pandas[\"original_token\"] = df\n",
    "# data_pandas[\"porter\"] = stem_porter_words\n",
    "# data_pandas[\"lancaster\"] = stem_lancaster_words\n",
    "# data_pandas[\"snow\"] = stem_snow_words\n",
    "# print(data_pandas)\n",
    "data_pandas_list.append(df)\n",
    "data_pandas_list.append(stem_porter_words)\n",
    "data_pandas_list.append(stem_lancaster_words)\n",
    "data_pandas_list.append(stem_snow_words)\n",
    "# pd.DataFrame(data=data_pandas)\n",
    "# --------------------------------------------------------------------------------------------------------------\n",
    "from collections import Counter\n",
    "\n",
    "res = Counter(data)\n",
    "print(res)\n",
    "# --------------------------------------------------------------------------------------------------------------\n",
    "import matplotlib.pyplot as plt\n",
    "plt.scatter(*zip(*res.items()))\n",
    "plt.show()\n",
    "# --------------------------------------------------------------------------------------------------------------\n",
    "nltk.download('averaged_perceptron_tagger')\n",
    "tagged = nltk.pos_tag(tokens_sent_tokenize)\n",
    "print(tagged)"
   ]
  },
  {
   "cell_type": "code",
   "execution_count": null,
   "id": "69d0b1f6",
   "metadata": {
    "scrolled": true
   },
   "outputs": [],
   "source": []
  },
  {
   "cell_type": "code",
   "execution_count": null,
   "id": "387c31b9",
   "metadata": {},
   "outputs": [],
   "source": []
  },
  {
   "cell_type": "code",
   "execution_count": null,
   "id": "9dfed6e9",
   "metadata": {},
   "outputs": [],
   "source": []
  }
 ],
 "metadata": {
  "kernelspec": {
   "display_name": "Python 3",
   "language": "python",
   "name": "python3"
  },
  "language_info": {
   "codemirror_mode": {
    "name": "ipython",
    "version": 3
   },
   "file_extension": ".py",
   "mimetype": "text/x-python",
   "name": "python",
   "nbconvert_exporter": "python",
   "pygments_lexer": "ipython3",
   "version": "3.8.0"
  }
 },
 "nbformat": 4,
 "nbformat_minor": 5
}
